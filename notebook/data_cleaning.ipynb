{
 "cells": [
  {
   "cell_type": "code",
   "execution_count": 14,
   "id": "dadc6c26",
   "metadata": {},
   "outputs": [],
   "source": [
    "import pandas as pd\n",
    "import seaborn as sns\n",
    "from matplotlib import pyplot as plt"
   ]
  },
  {
   "cell_type": "code",
   "execution_count": 2,
   "id": "6c40002e",
   "metadata": {},
   "outputs": [
    {
     "data": {
      "text/html": [
       "<div>\n",
       "<style scoped>\n",
       "    .dataframe tbody tr th:only-of-type {\n",
       "        vertical-align: middle;\n",
       "    }\n",
       "\n",
       "    .dataframe tbody tr th {\n",
       "        vertical-align: top;\n",
       "    }\n",
       "\n",
       "    .dataframe thead th {\n",
       "        text-align: right;\n",
       "    }\n",
       "</style>\n",
       "<table border=\"1\" class=\"dataframe\">\n",
       "  <thead>\n",
       "    <tr style=\"text-align: right;\">\n",
       "      <th></th>\n",
       "      <th>Age</th>\n",
       "      <th>Gender</th>\n",
       "      <th>Region</th>\n",
       "      <th>Marital_status</th>\n",
       "      <th>Number Of Dependants</th>\n",
       "      <th>BMI_Category</th>\n",
       "      <th>Smoking_Status</th>\n",
       "      <th>Employment_Status</th>\n",
       "      <th>Income_Level</th>\n",
       "      <th>Income_Lakhs</th>\n",
       "      <th>Medical History</th>\n",
       "      <th>Insurance_Plan</th>\n",
       "      <th>Annual_Premium_Amount</th>\n",
       "    </tr>\n",
       "  </thead>\n",
       "  <tbody>\n",
       "    <tr>\n",
       "      <th>0</th>\n",
       "      <td>26</td>\n",
       "      <td>Male</td>\n",
       "      <td>Northwest</td>\n",
       "      <td>Unmarried</td>\n",
       "      <td>0</td>\n",
       "      <td>Normal</td>\n",
       "      <td>No Smoking</td>\n",
       "      <td>Salaried</td>\n",
       "      <td>&lt;10L</td>\n",
       "      <td>6</td>\n",
       "      <td>Diabetes</td>\n",
       "      <td>Bronze</td>\n",
       "      <td>9053</td>\n",
       "    </tr>\n",
       "    <tr>\n",
       "      <th>1</th>\n",
       "      <td>29</td>\n",
       "      <td>Female</td>\n",
       "      <td>Southeast</td>\n",
       "      <td>Married</td>\n",
       "      <td>2</td>\n",
       "      <td>Obesity</td>\n",
       "      <td>Regular</td>\n",
       "      <td>Salaried</td>\n",
       "      <td>&lt;10L</td>\n",
       "      <td>6</td>\n",
       "      <td>Diabetes</td>\n",
       "      <td>Bronze</td>\n",
       "      <td>16339</td>\n",
       "    </tr>\n",
       "    <tr>\n",
       "      <th>2</th>\n",
       "      <td>49</td>\n",
       "      <td>Female</td>\n",
       "      <td>Northeast</td>\n",
       "      <td>Married</td>\n",
       "      <td>2</td>\n",
       "      <td>Normal</td>\n",
       "      <td>No Smoking</td>\n",
       "      <td>Self-Employed</td>\n",
       "      <td>10L - 25L</td>\n",
       "      <td>20</td>\n",
       "      <td>High blood pressure</td>\n",
       "      <td>Silver</td>\n",
       "      <td>18164</td>\n",
       "    </tr>\n",
       "  </tbody>\n",
       "</table>\n",
       "</div>"
      ],
      "text/plain": [
       "   Age  Gender     Region Marital_status  Number Of Dependants BMI_Category  \\\n",
       "0   26    Male  Northwest      Unmarried                     0       Normal   \n",
       "1   29  Female  Southeast        Married                     2      Obesity   \n",
       "2   49  Female  Northeast        Married                     2       Normal   \n",
       "\n",
       "  Smoking_Status Employment_Status Income_Level  Income_Lakhs  \\\n",
       "0     No Smoking          Salaried         <10L             6   \n",
       "1        Regular          Salaried         <10L             6   \n",
       "2     No Smoking     Self-Employed    10L - 25L            20   \n",
       "\n",
       "       Medical History Insurance_Plan  Annual_Premium_Amount  \n",
       "0             Diabetes         Bronze                   9053  \n",
       "1             Diabetes         Bronze                  16339  \n",
       "2  High blood pressure         Silver                  18164  "
      ]
     },
     "execution_count": 2,
     "metadata": {},
     "output_type": "execute_result"
    }
   ],
   "source": [
    "df=pd.read_excel(\"../resources/premiums.xlsx\")\n",
    "df.head(3)"
   ]
  },
  {
   "cell_type": "code",
   "execution_count": 3,
   "id": "794a52ec",
   "metadata": {},
   "outputs": [
    {
     "data": {
      "text/plain": [
       "(50000, 13)"
      ]
     },
     "execution_count": 3,
     "metadata": {},
     "output_type": "execute_result"
    }
   ],
   "source": [
    "df.shape"
   ]
  },
  {
   "cell_type": "code",
   "execution_count": 5,
   "id": "9ede0657",
   "metadata": {},
   "outputs": [
    {
     "data": {
      "text/html": [
       "<div>\n",
       "<style scoped>\n",
       "    .dataframe tbody tr th:only-of-type {\n",
       "        vertical-align: middle;\n",
       "    }\n",
       "\n",
       "    .dataframe tbody tr th {\n",
       "        vertical-align: top;\n",
       "    }\n",
       "\n",
       "    .dataframe thead th {\n",
       "        text-align: right;\n",
       "    }\n",
       "</style>\n",
       "<table border=\"1\" class=\"dataframe\">\n",
       "  <thead>\n",
       "    <tr style=\"text-align: right;\">\n",
       "      <th></th>\n",
       "      <th>age</th>\n",
       "      <th>gender</th>\n",
       "      <th>region</th>\n",
       "      <th>marital_status</th>\n",
       "      <th>number_of_dependants</th>\n",
       "      <th>bmi_category</th>\n",
       "      <th>smoking_status</th>\n",
       "      <th>employment_status</th>\n",
       "      <th>income_level</th>\n",
       "      <th>income_lakhs</th>\n",
       "      <th>medical_history</th>\n",
       "      <th>insurance_plan</th>\n",
       "      <th>annual_premium_amount</th>\n",
       "    </tr>\n",
       "  </thead>\n",
       "  <tbody>\n",
       "    <tr>\n",
       "      <th>0</th>\n",
       "      <td>26</td>\n",
       "      <td>Male</td>\n",
       "      <td>Northwest</td>\n",
       "      <td>Unmarried</td>\n",
       "      <td>0</td>\n",
       "      <td>Normal</td>\n",
       "      <td>No Smoking</td>\n",
       "      <td>Salaried</td>\n",
       "      <td>&lt;10L</td>\n",
       "      <td>6</td>\n",
       "      <td>Diabetes</td>\n",
       "      <td>Bronze</td>\n",
       "      <td>9053</td>\n",
       "    </tr>\n",
       "    <tr>\n",
       "      <th>1</th>\n",
       "      <td>29</td>\n",
       "      <td>Female</td>\n",
       "      <td>Southeast</td>\n",
       "      <td>Married</td>\n",
       "      <td>2</td>\n",
       "      <td>Obesity</td>\n",
       "      <td>Regular</td>\n",
       "      <td>Salaried</td>\n",
       "      <td>&lt;10L</td>\n",
       "      <td>6</td>\n",
       "      <td>Diabetes</td>\n",
       "      <td>Bronze</td>\n",
       "      <td>16339</td>\n",
       "    </tr>\n",
       "    <tr>\n",
       "      <th>2</th>\n",
       "      <td>49</td>\n",
       "      <td>Female</td>\n",
       "      <td>Northeast</td>\n",
       "      <td>Married</td>\n",
       "      <td>2</td>\n",
       "      <td>Normal</td>\n",
       "      <td>No Smoking</td>\n",
       "      <td>Self-Employed</td>\n",
       "      <td>10L - 25L</td>\n",
       "      <td>20</td>\n",
       "      <td>High blood pressure</td>\n",
       "      <td>Silver</td>\n",
       "      <td>18164</td>\n",
       "    </tr>\n",
       "    <tr>\n",
       "      <th>3</th>\n",
       "      <td>30</td>\n",
       "      <td>Female</td>\n",
       "      <td>Southeast</td>\n",
       "      <td>Married</td>\n",
       "      <td>3</td>\n",
       "      <td>Normal</td>\n",
       "      <td>No Smoking</td>\n",
       "      <td>Salaried</td>\n",
       "      <td>&gt; 40L</td>\n",
       "      <td>77</td>\n",
       "      <td>No Disease</td>\n",
       "      <td>Gold</td>\n",
       "      <td>20303</td>\n",
       "    </tr>\n",
       "    <tr>\n",
       "      <th>4</th>\n",
       "      <td>18</td>\n",
       "      <td>Male</td>\n",
       "      <td>Northeast</td>\n",
       "      <td>Unmarried</td>\n",
       "      <td>0</td>\n",
       "      <td>Overweight</td>\n",
       "      <td>Regular</td>\n",
       "      <td>Self-Employed</td>\n",
       "      <td>&gt; 40L</td>\n",
       "      <td>99</td>\n",
       "      <td>High blood pressure</td>\n",
       "      <td>Silver</td>\n",
       "      <td>13365</td>\n",
       "    </tr>\n",
       "  </tbody>\n",
       "</table>\n",
       "</div>"
      ],
      "text/plain": [
       "   age  gender     region marital_status  number_of_dependants bmi_category  \\\n",
       "0   26    Male  Northwest      Unmarried                     0       Normal   \n",
       "1   29  Female  Southeast        Married                     2      Obesity   \n",
       "2   49  Female  Northeast        Married                     2       Normal   \n",
       "3   30  Female  Southeast        Married                     3       Normal   \n",
       "4   18    Male  Northeast      Unmarried                     0   Overweight   \n",
       "\n",
       "  smoking_status employment_status income_level  income_lakhs  \\\n",
       "0     No Smoking          Salaried         <10L             6   \n",
       "1        Regular          Salaried         <10L             6   \n",
       "2     No Smoking     Self-Employed    10L - 25L            20   \n",
       "3     No Smoking          Salaried        > 40L            77   \n",
       "4        Regular     Self-Employed        > 40L            99   \n",
       "\n",
       "       medical_history insurance_plan  annual_premium_amount  \n",
       "0             Diabetes         Bronze                   9053  \n",
       "1             Diabetes         Bronze                  16339  \n",
       "2  High blood pressure         Silver                  18164  \n",
       "3           No Disease           Gold                  20303  \n",
       "4  High blood pressure         Silver                  13365  "
      ]
     },
     "execution_count": 5,
     "metadata": {},
     "output_type": "execute_result"
    }
   ],
   "source": [
    "df.columns = df.columns.str.replace(\" \",'_').str.lower()\n",
    "df.head()"
   ]
  },
  {
   "cell_type": "markdown",
   "id": "b221c603",
   "metadata": {},
   "source": [
    "### Handling Null Values"
   ]
  },
  {
   "cell_type": "code",
   "execution_count": 6,
   "id": "91a47a27",
   "metadata": {},
   "outputs": [
    {
     "data": {
      "text/plain": [
       "age                       0\n",
       "gender                    0\n",
       "region                    0\n",
       "marital_status            0\n",
       "number_of_dependants      0\n",
       "bmi_category              0\n",
       "smoking_status           11\n",
       "employment_status         2\n",
       "income_level             13\n",
       "income_lakhs              0\n",
       "medical_history           0\n",
       "insurance_plan            0\n",
       "annual_premium_amount     0\n",
       "dtype: int64"
      ]
     },
     "execution_count": 6,
     "metadata": {},
     "output_type": "execute_result"
    }
   ],
   "source": [
    "df.isna().sum()"
   ]
  },
  {
   "cell_type": "code",
   "execution_count": 7,
   "id": "c7b79c9f",
   "metadata": {},
   "outputs": [
    {
     "data": {
      "text/plain": [
       "age                      0\n",
       "gender                   0\n",
       "region                   0\n",
       "marital_status           0\n",
       "number_of_dependants     0\n",
       "bmi_category             0\n",
       "smoking_status           0\n",
       "employment_status        0\n",
       "income_level             0\n",
       "income_lakhs             0\n",
       "medical_history          0\n",
       "insurance_plan           0\n",
       "annual_premium_amount    0\n",
       "dtype: int64"
      ]
     },
     "execution_count": 7,
     "metadata": {},
     "output_type": "execute_result"
    }
   ],
   "source": [
    "df.dropna(inplace=True)\n",
    "df.isna().sum()"
   ]
  },
  {
   "cell_type": "markdown",
   "id": "459c0fbf",
   "metadata": {},
   "source": [
    "### Check duplicate Values"
   ]
  },
  {
   "cell_type": "code",
   "execution_count": 8,
   "id": "907f3469",
   "metadata": {},
   "outputs": [
    {
     "data": {
      "text/plain": [
       "np.int64(0)"
      ]
     },
     "execution_count": 8,
     "metadata": {},
     "output_type": "execute_result"
    }
   ],
   "source": [
    "df.duplicated().sum()\n",
    "df.drop_duplicates(inplace=True)\n",
    "df.duplicated().sum()"
   ]
  },
  {
   "cell_type": "markdown",
   "id": "334d051a",
   "metadata": {},
   "source": [
    "### Check Outliers"
   ]
  },
  {
   "cell_type": "code",
   "execution_count": 9,
   "id": "612fc640",
   "metadata": {},
   "outputs": [
    {
     "data": {
      "text/html": [
       "<div>\n",
       "<style scoped>\n",
       "    .dataframe tbody tr th:only-of-type {\n",
       "        vertical-align: middle;\n",
       "    }\n",
       "\n",
       "    .dataframe tbody tr th {\n",
       "        vertical-align: top;\n",
       "    }\n",
       "\n",
       "    .dataframe thead th {\n",
       "        text-align: right;\n",
       "    }\n",
       "</style>\n",
       "<table border=\"1\" class=\"dataframe\">\n",
       "  <thead>\n",
       "    <tr style=\"text-align: right;\">\n",
       "      <th></th>\n",
       "      <th>age</th>\n",
       "      <th>number_of_dependants</th>\n",
       "      <th>income_lakhs</th>\n",
       "      <th>annual_premium_amount</th>\n",
       "    </tr>\n",
       "  </thead>\n",
       "  <tbody>\n",
       "    <tr>\n",
       "      <th>count</th>\n",
       "      <td>49976.000000</td>\n",
       "      <td>49976.000000</td>\n",
       "      <td>49976.000000</td>\n",
       "      <td>49976.000000</td>\n",
       "    </tr>\n",
       "    <tr>\n",
       "      <th>mean</th>\n",
       "      <td>34.591764</td>\n",
       "      <td>1.711842</td>\n",
       "      <td>23.021150</td>\n",
       "      <td>15766.810189</td>\n",
       "    </tr>\n",
       "    <tr>\n",
       "      <th>std</th>\n",
       "      <td>15.000378</td>\n",
       "      <td>1.498195</td>\n",
       "      <td>24.221794</td>\n",
       "      <td>8419.995271</td>\n",
       "    </tr>\n",
       "    <tr>\n",
       "      <th>min</th>\n",
       "      <td>18.000000</td>\n",
       "      <td>-3.000000</td>\n",
       "      <td>1.000000</td>\n",
       "      <td>3501.000000</td>\n",
       "    </tr>\n",
       "    <tr>\n",
       "      <th>25%</th>\n",
       "      <td>22.000000</td>\n",
       "      <td>0.000000</td>\n",
       "      <td>7.000000</td>\n",
       "      <td>8607.750000</td>\n",
       "    </tr>\n",
       "    <tr>\n",
       "      <th>50%</th>\n",
       "      <td>31.000000</td>\n",
       "      <td>2.000000</td>\n",
       "      <td>17.000000</td>\n",
       "      <td>13928.000000</td>\n",
       "    </tr>\n",
       "    <tr>\n",
       "      <th>75%</th>\n",
       "      <td>45.000000</td>\n",
       "      <td>3.000000</td>\n",
       "      <td>31.000000</td>\n",
       "      <td>22273.500000</td>\n",
       "    </tr>\n",
       "    <tr>\n",
       "      <th>max</th>\n",
       "      <td>356.000000</td>\n",
       "      <td>5.000000</td>\n",
       "      <td>930.000000</td>\n",
       "      <td>43471.000000</td>\n",
       "    </tr>\n",
       "  </tbody>\n",
       "</table>\n",
       "</div>"
      ],
      "text/plain": [
       "                age  number_of_dependants  income_lakhs  annual_premium_amount\n",
       "count  49976.000000          49976.000000  49976.000000           49976.000000\n",
       "mean      34.591764              1.711842     23.021150           15766.810189\n",
       "std       15.000378              1.498195     24.221794            8419.995271\n",
       "min       18.000000             -3.000000      1.000000            3501.000000\n",
       "25%       22.000000              0.000000      7.000000            8607.750000\n",
       "50%       31.000000              2.000000     17.000000           13928.000000\n",
       "75%       45.000000              3.000000     31.000000           22273.500000\n",
       "max      356.000000              5.000000    930.000000           43471.000000"
      ]
     },
     "execution_count": 9,
     "metadata": {},
     "output_type": "execute_result"
    }
   ],
   "source": [
    "df.describe()"
   ]
  },
  {
   "cell_type": "code",
   "execution_count": 11,
   "id": "c3754f6d",
   "metadata": {},
   "outputs": [
    {
     "data": {
      "text/plain": [
       "array([-3, -1])"
      ]
     },
     "execution_count": 11,
     "metadata": {},
     "output_type": "execute_result"
    }
   ],
   "source": [
    "df[df.number_of_dependants < 0][\"number_of_dependants\"].unique()"
   ]
  },
  {
   "cell_type": "code",
   "execution_count": 12,
   "id": "9a6f5f93",
   "metadata": {},
   "outputs": [
    {
     "data": {
      "text/plain": [
       "count    49976.000000\n",
       "mean         1.717284\n",
       "std          1.491953\n",
       "min          0.000000\n",
       "25%          0.000000\n",
       "50%          2.000000\n",
       "75%          3.000000\n",
       "max          5.000000\n",
       "Name: number_of_dependants, dtype: float64"
      ]
     },
     "execution_count": 12,
     "metadata": {},
     "output_type": "execute_result"
    }
   ],
   "source": [
    "df[\"number_of_dependants\"] = abs(df[\"number_of_dependants\"])\n",
    "df[\"number_of_dependants\"].describe()"
   ]
  },
  {
   "cell_type": "code",
   "execution_count": 16,
   "id": "ece382aa",
   "metadata": {},
   "outputs": [
    {
     "data": {
      "text/plain": [
       "Index(['age', 'number_of_dependants', 'income_lakhs', 'annual_premium_amount'], dtype='object')"
      ]
     },
     "execution_count": 16,
     "metadata": {},
     "output_type": "execute_result"
    }
   ],
   "source": [
    "numeric_columns=df.select_dtypes(['float64','int64']).columns\n",
    "numeric_columns"
   ]
  },
  {
   "cell_type": "code",
   "execution_count": 17,
   "id": "427f3471",
   "metadata": {},
   "outputs": [
    {
     "data": {
      "image/png": "[encoded data removed]",
      "text/plain": [
       "<Figure size 640x480 with 1 Axes>"
      ]
     },
     "metadata": {},
     "output_type": "display_data"
    },
    {
     "data": {
      "image/png": "[encoded data removed]",
      "text/plain": [
       "<Figure size 640x480 with 1 Axes>"
      ]
     },
     "metadata": {},
     "output_type": "display_data"
    },
    {
     "data": {
      "image/png": "[encoded data removed]",
      "text/plain": [
       "<Figure size 640x480 with 1 Axes>"
      ]
     },
     "metadata": {},
     "output_type": "display_data"
    },
    {
     "data": {
      "image/png": "[encoded data removed]",
      "text/plain": [
       "<Figure size 640x480 with 1 Axes>"
      ]
     },
     "metadata": {},
     "output_type": "display_data"
    }
   ],
   "source": [
    "for column in numeric_columns:\n",
    "    sns.boxplot(x=df[column])\n",
    "    plt.show()"
   ]
  },
  {
   "cell_type": "code",
   "execution_count": 18,
   "id": "c3f95b68",
   "metadata": {},
   "outputs": [
    {
     "data": {
      "text/plain": [
       "array([224, 124, 136, 203, 356])"
      ]
     },
     "execution_count": 18,
     "metadata": {},
     "output_type": "execute_result"
    }
   ],
   "source": [
    "df[df.age>100]['age'].unique()"
   ]
  },
  {
   "cell_type": "code",
   "execution_count": 19,
   "id": "71ea4631",
   "metadata": {},
   "outputs": [
    {
     "data": {
      "text/html": [
       "<div>\n",
       "<style scoped>\n",
       "    .dataframe tbody tr th:only-of-type {\n",
       "        vertical-align: middle;\n",
       "    }\n",
       "\n",
       "    .dataframe tbody tr th {\n",
       "        vertical-align: top;\n",
       "    }\n",
       "\n",
       "    .dataframe thead th {\n",
       "        text-align: right;\n",
       "    }\n",
       "</style>\n",
       "<table border=\"1\" class=\"dataframe\">\n",
       "  <thead>\n",
       "    <tr style=\"text-align: right;\">\n",
       "      <th></th>\n",
       "      <th>age</th>\n",
       "      <th>number_of_dependants</th>\n",
       "      <th>income_lakhs</th>\n",
       "      <th>annual_premium_amount</th>\n",
       "    </tr>\n",
       "  </thead>\n",
       "  <tbody>\n",
       "    <tr>\n",
       "      <th>count</th>\n",
       "      <td>49918.000000</td>\n",
       "      <td>49918.000000</td>\n",
       "      <td>49918.000000</td>\n",
       "      <td>49918.000000</td>\n",
       "    </tr>\n",
       "    <tr>\n",
       "      <th>mean</th>\n",
       "      <td>34.401839</td>\n",
       "      <td>1.717617</td>\n",
       "      <td>23.025141</td>\n",
       "      <td>15766.589286</td>\n",
       "    </tr>\n",
       "    <tr>\n",
       "      <th>std</th>\n",
       "      <td>13.681600</td>\n",
       "      <td>1.492074</td>\n",
       "      <td>24.227912</td>\n",
       "      <td>8419.137327</td>\n",
       "    </tr>\n",
       "    <tr>\n",
       "      <th>min</th>\n",
       "      <td>18.000000</td>\n",
       "      <td>0.000000</td>\n",
       "      <td>1.000000</td>\n",
       "      <td>3501.000000</td>\n",
       "    </tr>\n",
       "    <tr>\n",
       "      <th>25%</th>\n",
       "      <td>22.000000</td>\n",
       "      <td>0.000000</td>\n",
       "      <td>7.000000</td>\n",
       "      <td>8608.000000</td>\n",
       "    </tr>\n",
       "    <tr>\n",
       "      <th>50%</th>\n",
       "      <td>31.000000</td>\n",
       "      <td>2.000000</td>\n",
       "      <td>17.000000</td>\n",
       "      <td>13928.000000</td>\n",
       "    </tr>\n",
       "    <tr>\n",
       "      <th>75%</th>\n",
       "      <td>45.000000</td>\n",
       "      <td>3.000000</td>\n",
       "      <td>31.000000</td>\n",
       "      <td>22272.000000</td>\n",
       "    </tr>\n",
       "    <tr>\n",
       "      <th>max</th>\n",
       "      <td>72.000000</td>\n",
       "      <td>5.000000</td>\n",
       "      <td>930.000000</td>\n",
       "      <td>43471.000000</td>\n",
       "    </tr>\n",
       "  </tbody>\n",
       "</table>\n",
       "</div>"
      ],
      "text/plain": [
       "                age  number_of_dependants  income_lakhs  annual_premium_amount\n",
       "count  49918.000000          49918.000000  49918.000000           49918.000000\n",
       "mean      34.401839              1.717617     23.025141           15766.589286\n",
       "std       13.681600              1.492074     24.227912            8419.137327\n",
       "min       18.000000              0.000000      1.000000            3501.000000\n",
       "25%       22.000000              0.000000      7.000000            8608.000000\n",
       "50%       31.000000              2.000000     17.000000           13928.000000\n",
       "75%       45.000000              3.000000     31.000000           22272.000000\n",
       "max       72.000000              5.000000    930.000000           43471.000000"
      ]
     },
     "execution_count": 19,
     "metadata": {},
     "output_type": "execute_result"
    }
   ],
   "source": [
    "df1=df[df.age<=100].copy()\n",
    "df1.describe()"
   ]
  },
  {
   "cell_type": "code",
   "execution_count": 20,
   "id": "f3de641c",
   "metadata": {},
   "outputs": [],
   "source": [
    "def get_iqr_bounds(col):\n",
    "    Q1, Q3=col.quantile([0.25, 0.75])\n",
    "    IQR = Q3-Q1\n",
    "    lower_bound = Q1 - 1.5 * IQR\n",
    "    upper_bound = Q3 + 1.5 * IQR\n",
    "    return lower_bound,upper_bound \n"
   ]
  },
  {
   "cell_type": "code",
   "execution_count": 21,
   "id": "9334d66b",
   "metadata": {},
   "outputs": [
    {
     "data": {
      "text/plain": [
       "(-29.0, 67.0)"
      ]
     },
     "execution_count": 21,
     "metadata": {},
     "output_type": "execute_result"
    }
   ],
   "source": [
    "get_iqr_bounds(df1.income_lakhs)"
   ]
  },
  {
   "cell_type": "code",
   "execution_count": 24,
   "id": "a89c366f",
   "metadata": {},
   "outputs": [],
   "source": [
    "quantile_treshold=df1.income_lakhs.quantile(0.999)"
   ]
  },
  {
   "cell_type": "code",
   "execution_count": 26,
   "id": "2052bd95",
   "metadata": {},
   "outputs": [],
   "source": [
    "df2=df1[df1.income_lakhs <= quantile_treshold].copy()"
   ]
  },
  {
   "cell_type": "code",
   "execution_count": 27,
   "id": "0fe33156",
   "metadata": {},
   "outputs": [
    {
     "data": {
      "text/html": [
       "<div>\n",
       "<style scoped>\n",
       "    .dataframe tbody tr th:only-of-type {\n",
       "        vertical-align: middle;\n",
       "    }\n",
       "\n",
       "    .dataframe tbody tr th {\n",
       "        vertical-align: top;\n",
       "    }\n",
       "\n",
       "    .dataframe thead th {\n",
       "        text-align: right;\n",
       "    }\n",
       "</style>\n",
       "<table border=\"1\" class=\"dataframe\">\n",
       "  <thead>\n",
       "    <tr style=\"text-align: right;\">\n",
       "      <th></th>\n",
       "      <th>age</th>\n",
       "      <th>number_of_dependants</th>\n",
       "      <th>income_lakhs</th>\n",
       "      <th>annual_premium_amount</th>\n",
       "    </tr>\n",
       "  </thead>\n",
       "  <tbody>\n",
       "    <tr>\n",
       "      <th>count</th>\n",
       "      <td>49908.000000</td>\n",
       "      <td>49908.000000</td>\n",
       "      <td>49908.000000</td>\n",
       "      <td>49908.000000</td>\n",
       "    </tr>\n",
       "    <tr>\n",
       "      <th>mean</th>\n",
       "      <td>34.401579</td>\n",
       "      <td>1.717640</td>\n",
       "      <td>22.889897</td>\n",
       "      <td>15765.739641</td>\n",
       "    </tr>\n",
       "    <tr>\n",
       "      <th>std</th>\n",
       "      <td>13.681604</td>\n",
       "      <td>1.492032</td>\n",
       "      <td>22.170699</td>\n",
       "      <td>8418.674061</td>\n",
       "    </tr>\n",
       "    <tr>\n",
       "      <th>min</th>\n",
       "      <td>18.000000</td>\n",
       "      <td>0.000000</td>\n",
       "      <td>1.000000</td>\n",
       "      <td>3501.000000</td>\n",
       "    </tr>\n",
       "    <tr>\n",
       "      <th>25%</th>\n",
       "      <td>22.000000</td>\n",
       "      <td>0.000000</td>\n",
       "      <td>7.000000</td>\n",
       "      <td>8608.000000</td>\n",
       "    </tr>\n",
       "    <tr>\n",
       "      <th>50%</th>\n",
       "      <td>31.000000</td>\n",
       "      <td>2.000000</td>\n",
       "      <td>17.000000</td>\n",
       "      <td>13928.000000</td>\n",
       "    </tr>\n",
       "    <tr>\n",
       "      <th>75%</th>\n",
       "      <td>45.000000</td>\n",
       "      <td>3.000000</td>\n",
       "      <td>31.000000</td>\n",
       "      <td>22270.500000</td>\n",
       "    </tr>\n",
       "    <tr>\n",
       "      <th>max</th>\n",
       "      <td>72.000000</td>\n",
       "      <td>5.000000</td>\n",
       "      <td>100.000000</td>\n",
       "      <td>43471.000000</td>\n",
       "    </tr>\n",
       "  </tbody>\n",
       "</table>\n",
       "</div>"
      ],
      "text/plain": [
       "                age  number_of_dependants  income_lakhs  annual_premium_amount\n",
       "count  49908.000000          49908.000000  49908.000000           49908.000000\n",
       "mean      34.401579              1.717640     22.889897           15765.739641\n",
       "std       13.681604              1.492032     22.170699            8418.674061\n",
       "min       18.000000              0.000000      1.000000            3501.000000\n",
       "25%       22.000000              0.000000      7.000000            8608.000000\n",
       "50%       31.000000              2.000000     17.000000           13928.000000\n",
       "75%       45.000000              3.000000     31.000000           22270.500000\n",
       "max       72.000000              5.000000    100.000000           43471.000000"
      ]
     },
     "execution_count": 27,
     "metadata": {},
     "output_type": "execute_result"
    }
   ],
   "source": [
    "df2.describe()"
   ]
  }
 ],
 "metadata": {
  "kernelspec": {
   "display_name": ".venv",
   "language": "python",
   "name": "python3"
  },
  "language_info": {
   "codemirror_mode": {
    "name": "ipython",
    "version": 3
   },
   "file_extension": ".py",
   "mimetype": "text/x-python",
   "name": "python",
   "nbconvert_exporter": "python",
   "pygments_lexer": "ipython3",
   "version": "3.13.3"
  }
 },
 "nbformat": 4,
 "nbformat_minor": 5
}
