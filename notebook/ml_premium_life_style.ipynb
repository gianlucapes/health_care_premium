{
 "cells": [
  {
   "cell_type": "code",
   "execution_count": 1,
   "id": "0ef609db",
   "metadata": {},
   "outputs": [],
   "source": [
    "import pandas as pd\n",
    "import seaborn as sns\n",
    "from matplotlib import pyplot as plt\n",
    "import pandas as pd\n",
    "import numpy as np\n",
    "from matplotlib import pyplot as plt\n",
    "import seaborn as sns\n",
    "from sklearn.linear_model import LinearRegression, Ridge, Lasso\n",
    "from sklearn.metrics import r2_score, mean_squared_error, mean_absolute_error\n",
    "from statsmodels.stats.outliers_influence import variance_inflation_factor\n",
    "from sklearn.model_selection import train_test_split, cross_val_score\n",
    "from sklearn.model_selection import GridSearchCV, RandomizedSearchCV, train_test_split\n",
    "from pandasql import sqldf"
   ]
  },
  {
   "cell_type": "markdown",
   "id": "35158ddc",
   "metadata": {},
   "source": [
    "### Data Loading"
   ]
  },
  {
   "cell_type": "code",
   "execution_count": 2,
   "id": "d0e443ef",
   "metadata": {},
   "outputs": [
    {
     "name": "stdout",
     "output_type": "stream",
     "text": [
      "Rows 10000 - Cols 15\n"
     ]
    },
    {
     "data": {
      "text/html": [
       "<div>\n",
       "<style scoped>\n",
       "    .dataframe tbody tr th:only-of-type {\n",
       "        vertical-align: middle;\n",
       "    }\n",
       "\n",
       "    .dataframe tbody tr th {\n",
       "        vertical-align: top;\n",
       "    }\n",
       "\n",
       "    .dataframe thead th {\n",
       "        text-align: right;\n",
       "    }\n",
       "</style>\n",
       "<table border=\"1\" class=\"dataframe\">\n",
       "  <thead>\n",
       "    <tr style=\"text-align: right;\">\n",
       "      <th></th>\n",
       "      <th>Age</th>\n",
       "      <th>Gender</th>\n",
       "      <th>Region</th>\n",
       "      <th>Marital_status</th>\n",
       "      <th>Physical_Activity</th>\n",
       "      <th>Stress_Level</th>\n",
       "      <th>Number Of Dependants</th>\n",
       "      <th>BMI_Category</th>\n",
       "      <th>Smoking_Status</th>\n",
       "      <th>Employment_Status</th>\n",
       "      <th>Income_Level</th>\n",
       "      <th>Income_Lakhs</th>\n",
       "      <th>Medical History</th>\n",
       "      <th>Insurance_Plan</th>\n",
       "      <th>Annual_Premium_Amount</th>\n",
       "    </tr>\n",
       "  </thead>\n",
       "  <tbody>\n",
       "    <tr>\n",
       "      <th>0</th>\n",
       "      <td>56</td>\n",
       "      <td>Female</td>\n",
       "      <td>Southeast</td>\n",
       "      <td>Unmarried</td>\n",
       "      <td>Medium</td>\n",
       "      <td>Medium</td>\n",
       "      <td>2</td>\n",
       "      <td>Normal</td>\n",
       "      <td>No Smoking</td>\n",
       "      <td>Self-Employed</td>\n",
       "      <td>25L - 40L</td>\n",
       "      <td>37</td>\n",
       "      <td>High blood pressure</td>\n",
       "      <td>Gold</td>\n",
       "      <td>27944</td>\n",
       "    </tr>\n",
       "    <tr>\n",
       "      <th>1</th>\n",
       "      <td>38</td>\n",
       "      <td>Female</td>\n",
       "      <td>Northeast</td>\n",
       "      <td>Married</td>\n",
       "      <td>Low</td>\n",
       "      <td>High</td>\n",
       "      <td>5</td>\n",
       "      <td>Overweight</td>\n",
       "      <td>Occasional</td>\n",
       "      <td>Freelancer</td>\n",
       "      <td>10L - 25L</td>\n",
       "      <td>10</td>\n",
       "      <td>No Disease</td>\n",
       "      <td>Silver</td>\n",
       "      <td>21108</td>\n",
       "    </tr>\n",
       "    <tr>\n",
       "      <th>2</th>\n",
       "      <td>18</td>\n",
       "      <td>Female</td>\n",
       "      <td>Southwest</td>\n",
       "      <td>Unmarried</td>\n",
       "      <td>Medium</td>\n",
       "      <td>High</td>\n",
       "      <td>0</td>\n",
       "      <td>Normal</td>\n",
       "      <td>No Smoking</td>\n",
       "      <td>Freelancer</td>\n",
       "      <td>&lt;10L</td>\n",
       "      <td>9</td>\n",
       "      <td>No Disease</td>\n",
       "      <td>Bronze</td>\n",
       "      <td>8459</td>\n",
       "    </tr>\n",
       "  </tbody>\n",
       "</table>\n",
       "</div>"
      ],
      "text/plain": [
       "   Age  Gender     Region Marital_status Physical_Activity Stress_Level  \\\n",
       "0   56  Female  Southeast      Unmarried            Medium       Medium   \n",
       "1   38  Female  Northeast        Married               Low         High   \n",
       "2   18  Female  Southwest      Unmarried            Medium         High   \n",
       "\n",
       "   Number Of Dependants BMI_Category Smoking_Status Employment_Status  \\\n",
       "0                     2       Normal     No Smoking     Self-Employed   \n",
       "1                     5   Overweight     Occasional        Freelancer   \n",
       "2                     0       Normal     No Smoking        Freelancer   \n",
       "\n",
       "  Income_Level  Income_Lakhs      Medical History Insurance_Plan  \\\n",
       "0    25L - 40L            37  High blood pressure           Gold   \n",
       "1    10L - 25L            10           No Disease         Silver   \n",
       "2         <10L             9           No Disease         Bronze   \n",
       "\n",
       "   Annual_Premium_Amount  \n",
       "0                  27944  \n",
       "1                  21108  \n",
       "2                   8459  "
      ]
     },
     "execution_count": 2,
     "metadata": {},
     "output_type": "execute_result"
    }
   ],
   "source": [
    "df=pd.read_excel(\"../resources/premiums_with_life_style.xlsx\")\n",
    "print(f\"Rows {df.shape[0]} - Cols {df.shape[1]}\")\n",
    "df.head(3)"
   ]
  },
  {
   "cell_type": "code",
   "execution_count": 3,
   "id": "4739e8f6",
   "metadata": {},
   "outputs": [
    {
     "data": {
      "text/html": [
       "<div>\n",
       "<style scoped>\n",
       "    .dataframe tbody tr th:only-of-type {\n",
       "        vertical-align: middle;\n",
       "    }\n",
       "\n",
       "    .dataframe tbody tr th {\n",
       "        vertical-align: top;\n",
       "    }\n",
       "\n",
       "    .dataframe thead th {\n",
       "        text-align: right;\n",
       "    }\n",
       "</style>\n",
       "<table border=\"1\" class=\"dataframe\">\n",
       "  <thead>\n",
       "    <tr style=\"text-align: right;\">\n",
       "      <th></th>\n",
       "      <th>age</th>\n",
       "      <th>gender</th>\n",
       "      <th>region</th>\n",
       "      <th>marital_status</th>\n",
       "      <th>physical_activity</th>\n",
       "      <th>stress_level</th>\n",
       "      <th>number_of_dependants</th>\n",
       "      <th>bmi_category</th>\n",
       "      <th>smoking_status</th>\n",
       "      <th>employment_status</th>\n",
       "      <th>income_level</th>\n",
       "      <th>income_lakhs</th>\n",
       "      <th>medical_history</th>\n",
       "      <th>insurance_plan</th>\n",
       "      <th>annual_premium_amount</th>\n",
       "    </tr>\n",
       "  </thead>\n",
       "  <tbody>\n",
       "    <tr>\n",
       "      <th>0</th>\n",
       "      <td>56</td>\n",
       "      <td>Female</td>\n",
       "      <td>Southeast</td>\n",
       "      <td>Unmarried</td>\n",
       "      <td>Medium</td>\n",
       "      <td>Medium</td>\n",
       "      <td>2</td>\n",
       "      <td>Normal</td>\n",
       "      <td>No Smoking</td>\n",
       "      <td>Self-Employed</td>\n",
       "      <td>25L - 40L</td>\n",
       "      <td>37</td>\n",
       "      <td>High blood pressure</td>\n",
       "      <td>Gold</td>\n",
       "      <td>27944</td>\n",
       "    </tr>\n",
       "    <tr>\n",
       "      <th>1</th>\n",
       "      <td>38</td>\n",
       "      <td>Female</td>\n",
       "      <td>Northeast</td>\n",
       "      <td>Married</td>\n",
       "      <td>Low</td>\n",
       "      <td>High</td>\n",
       "      <td>5</td>\n",
       "      <td>Overweight</td>\n",
       "      <td>Occasional</td>\n",
       "      <td>Freelancer</td>\n",
       "      <td>10L - 25L</td>\n",
       "      <td>10</td>\n",
       "      <td>No Disease</td>\n",
       "      <td>Silver</td>\n",
       "      <td>21108</td>\n",
       "    </tr>\n",
       "    <tr>\n",
       "      <th>2</th>\n",
       "      <td>18</td>\n",
       "      <td>Female</td>\n",
       "      <td>Southwest</td>\n",
       "      <td>Unmarried</td>\n",
       "      <td>Medium</td>\n",
       "      <td>High</td>\n",
       "      <td>0</td>\n",
       "      <td>Normal</td>\n",
       "      <td>No Smoking</td>\n",
       "      <td>Freelancer</td>\n",
       "      <td>&lt;10L</td>\n",
       "      <td>9</td>\n",
       "      <td>No Disease</td>\n",
       "      <td>Bronze</td>\n",
       "      <td>8459</td>\n",
       "    </tr>\n",
       "    <tr>\n",
       "      <th>3</th>\n",
       "      <td>55</td>\n",
       "      <td>Male</td>\n",
       "      <td>Northeast</td>\n",
       "      <td>Married</td>\n",
       "      <td>High</td>\n",
       "      <td>Medium</td>\n",
       "      <td>3</td>\n",
       "      <td>Overweight</td>\n",
       "      <td>Occasional</td>\n",
       "      <td>Salaried</td>\n",
       "      <td>&lt;10L</td>\n",
       "      <td>9</td>\n",
       "      <td>Thyroid</td>\n",
       "      <td>Silver</td>\n",
       "      <td>21685</td>\n",
       "    </tr>\n",
       "    <tr>\n",
       "      <th>4</th>\n",
       "      <td>22</td>\n",
       "      <td>Male</td>\n",
       "      <td>Southeast</td>\n",
       "      <td>Unmarried</td>\n",
       "      <td>Medium</td>\n",
       "      <td>High</td>\n",
       "      <td>2</td>\n",
       "      <td>Normal</td>\n",
       "      <td>Regular</td>\n",
       "      <td>Self-Employed</td>\n",
       "      <td>10L - 25L</td>\n",
       "      <td>13</td>\n",
       "      <td>High blood pressure &amp; Heart disease</td>\n",
       "      <td>Bronze</td>\n",
       "      <td>15984</td>\n",
       "    </tr>\n",
       "  </tbody>\n",
       "</table>\n",
       "</div>"
      ],
      "text/plain": [
       "   age  gender     region marital_status physical_activity stress_level  \\\n",
       "0   56  Female  Southeast      Unmarried            Medium       Medium   \n",
       "1   38  Female  Northeast        Married               Low         High   \n",
       "2   18  Female  Southwest      Unmarried            Medium         High   \n",
       "3   55    Male  Northeast        Married              High       Medium   \n",
       "4   22    Male  Southeast      Unmarried            Medium         High   \n",
       "\n",
       "   number_of_dependants bmi_category smoking_status employment_status  \\\n",
       "0                     2       Normal     No Smoking     Self-Employed   \n",
       "1                     5   Overweight     Occasional        Freelancer   \n",
       "2                     0       Normal     No Smoking        Freelancer   \n",
       "3                     3   Overweight     Occasional          Salaried   \n",
       "4                     2       Normal        Regular     Self-Employed   \n",
       "\n",
       "  income_level  income_lakhs                      medical_history  \\\n",
       "0    25L - 40L            37                  High blood pressure   \n",
       "1    10L - 25L            10                           No Disease   \n",
       "2         <10L             9                           No Disease   \n",
       "3         <10L             9                              Thyroid   \n",
       "4    10L - 25L            13  High blood pressure & Heart disease   \n",
       "\n",
       "  insurance_plan  annual_premium_amount  \n",
       "0           Gold                  27944  \n",
       "1         Silver                  21108  \n",
       "2         Bronze                   8459  \n",
       "3         Silver                  21685  \n",
       "4         Bronze                  15984  "
      ]
     },
     "execution_count": 3,
     "metadata": {},
     "output_type": "execute_result"
    }
   ],
   "source": [
    "df.columns = df.columns.str.replace(\" \",'_').str.lower()\n",
    "df.head()"
   ]
  },
  {
   "cell_type": "markdown",
   "id": "5ded7053",
   "metadata": {},
   "source": [
    "### Check Null Values"
   ]
  },
  {
   "cell_type": "code",
   "execution_count": 4,
   "id": "4ac9916f",
   "metadata": {},
   "outputs": [
    {
     "data": {
      "text/plain": [
       "age                       0\n",
       "gender                    0\n",
       "region                    0\n",
       "marital_status            0\n",
       "physical_activity         0\n",
       "stress_level              0\n",
       "number_of_dependants      0\n",
       "bmi_category              0\n",
       "smoking_status            9\n",
       "employment_status         7\n",
       "income_level             18\n",
       "income_lakhs              0\n",
       "medical_history           0\n",
       "insurance_plan            0\n",
       "annual_premium_amount     0\n",
       "dtype: int64"
      ]
     },
     "execution_count": 4,
     "metadata": {},
     "output_type": "execute_result"
    }
   ],
   "source": [
    "df.isna().sum()"
   ]
  },
  {
   "cell_type": "markdown",
   "id": "0f836434",
   "metadata": {},
   "source": [
    "### Check Unique Values Of Missing Columns"
   ]
  },
  {
   "cell_type": "code",
   "execution_count": 5,
   "id": "c4eb04de",
   "metadata": {},
   "outputs": [
    {
     "data": {
      "text/plain": [
       "array(['No Smoking', 'Occasional', 'Regular', nan], dtype=object)"
      ]
     },
     "execution_count": 5,
     "metadata": {},
     "output_type": "execute_result"
    }
   ],
   "source": [
    "df['smoking_status'].unique()"
   ]
  },
  {
   "cell_type": "code",
   "execution_count": 6,
   "id": "21b087de",
   "metadata": {},
   "outputs": [
    {
     "data": {
      "text/plain": [
       "array(['Self-Employed', 'Freelancer', 'Salaried', nan], dtype=object)"
      ]
     },
     "execution_count": 6,
     "metadata": {},
     "output_type": "execute_result"
    }
   ],
   "source": [
    "df['employment_status'].unique()"
   ]
  },
  {
   "cell_type": "code",
   "execution_count": 7,
   "id": "c34ae909",
   "metadata": {},
   "outputs": [
    {
     "data": {
      "text/plain": [
       "array(['25L - 40L', '10L - 25L', '<10L', '> 40L', nan], dtype=object)"
      ]
     },
     "execution_count": 7,
     "metadata": {},
     "output_type": "execute_result"
    }
   ],
   "source": [
    "df['income_level'].unique()"
   ]
  },
  {
   "cell_type": "markdown",
   "id": "319704b1",
   "metadata": {},
   "source": [
    "### Visualize Income Level Against Income Lakhs"
   ]
  },
  {
   "cell_type": "code",
   "execution_count": 8,
   "id": "9554dc8c",
   "metadata": {},
   "outputs": [
    {
     "data": {
      "image/png": "[encoded data removed]",
      "text/plain": [
       "<Figure size 640x480 with 1 Axes>"
      ]
     },
     "metadata": {},
     "output_type": "display_data"
    }
   ],
   "source": [
    "sns.scatterplot(x=\"income_level\", y=\"income_lakhs\", data=df.dropna(), color='skyblue')\n",
    "plt.show()"
   ]
  },
  {
   "cell_type": "markdown",
   "id": "e9b1f81d",
   "metadata": {},
   "source": [
    "### Drop Null Values"
   ]
  },
  {
   "cell_type": "code",
   "execution_count": 9,
   "id": "6b3cc4df",
   "metadata": {},
   "outputs": [],
   "source": [
    "df.dropna(inplace=True)"
   ]
  },
  {
   "cell_type": "code",
   "execution_count": 10,
   "id": "6ef08c11",
   "metadata": {},
   "outputs": [
    {
     "data": {
      "text/plain": [
       "age                      0\n",
       "gender                   0\n",
       "region                   0\n",
       "marital_status           0\n",
       "physical_activity        0\n",
       "stress_level             0\n",
       "number_of_dependants     0\n",
       "bmi_category             0\n",
       "smoking_status           0\n",
       "employment_status        0\n",
       "income_level             0\n",
       "income_lakhs             0\n",
       "medical_history          0\n",
       "insurance_plan           0\n",
       "annual_premium_amount    0\n",
       "dtype: int64"
      ]
     },
     "execution_count": 10,
     "metadata": {},
     "output_type": "execute_result"
    }
   ],
   "source": [
    "df.isna().sum()"
   ]
  },
  {
   "cell_type": "markdown",
   "id": "df68e840",
   "metadata": {},
   "source": [
    "### Check duplicate Values"
   ]
  },
  {
   "cell_type": "code",
   "execution_count": 11,
   "id": "8ca6845e",
   "metadata": {},
   "outputs": [
    {
     "data": {
      "text/plain": [
       "np.int64(0)"
      ]
     },
     "execution_count": 11,
     "metadata": {},
     "output_type": "execute_result"
    }
   ],
   "source": [
    "df.duplicated().sum()"
   ]
  },
  {
   "cell_type": "markdown",
   "id": "509b85db",
   "metadata": {},
   "source": [
    "### Check Outliers"
   ]
  },
  {
   "cell_type": "code",
   "execution_count": 12,
   "id": "3dc5a7d2",
   "metadata": {},
   "outputs": [
    {
     "data": {
      "text/html": [
       "<div>\n",
       "<style scoped>\n",
       "    .dataframe tbody tr th:only-of-type {\n",
       "        vertical-align: middle;\n",
       "    }\n",
       "\n",
       "    .dataframe tbody tr th {\n",
       "        vertical-align: top;\n",
       "    }\n",
       "\n",
       "    .dataframe thead th {\n",
       "        text-align: right;\n",
       "    }\n",
       "</style>\n",
       "<table border=\"1\" class=\"dataframe\">\n",
       "  <thead>\n",
       "    <tr style=\"text-align: right;\">\n",
       "      <th></th>\n",
       "      <th>age</th>\n",
       "      <th>number_of_dependants</th>\n",
       "      <th>income_lakhs</th>\n",
       "      <th>annual_premium_amount</th>\n",
       "    </tr>\n",
       "  </thead>\n",
       "  <tbody>\n",
       "    <tr>\n",
       "      <th>count</th>\n",
       "      <td>9973.000000</td>\n",
       "      <td>9973.000000</td>\n",
       "      <td>9973.000000</td>\n",
       "      <td>9973.000000</td>\n",
       "    </tr>\n",
       "    <tr>\n",
       "      <th>mean</th>\n",
       "      <td>41.319362</td>\n",
       "      <td>3.195628</td>\n",
       "      <td>23.382232</td>\n",
       "      <td>19503.816705</td>\n",
       "    </tr>\n",
       "    <tr>\n",
       "      <th>std</th>\n",
       "      <td>58.044687</td>\n",
       "      <td>21.679565</td>\n",
       "      <td>32.334811</td>\n",
       "      <td>8898.079736</td>\n",
       "    </tr>\n",
       "    <tr>\n",
       "      <th>min</th>\n",
       "      <td>18.000000</td>\n",
       "      <td>0.000000</td>\n",
       "      <td>1.000000</td>\n",
       "      <td>3582.000000</td>\n",
       "    </tr>\n",
       "    <tr>\n",
       "      <th>25%</th>\n",
       "      <td>24.000000</td>\n",
       "      <td>0.000000</td>\n",
       "      <td>6.000000</td>\n",
       "      <td>11774.000000</td>\n",
       "    </tr>\n",
       "    <tr>\n",
       "      <th>50%</th>\n",
       "      <td>37.000000</td>\n",
       "      <td>2.000000</td>\n",
       "      <td>16.000000</td>\n",
       "      <td>19314.000000</td>\n",
       "    </tr>\n",
       "    <tr>\n",
       "      <th>75%</th>\n",
       "      <td>50.000000</td>\n",
       "      <td>3.000000</td>\n",
       "      <td>31.000000</td>\n",
       "      <td>26500.000000</td>\n",
       "    </tr>\n",
       "    <tr>\n",
       "      <th>max</th>\n",
       "      <td>1178.000000</td>\n",
       "      <td>456.000000</td>\n",
       "      <td>960.000000</td>\n",
       "      <td>45854.000000</td>\n",
       "    </tr>\n",
       "  </tbody>\n",
       "</table>\n",
       "</div>"
      ],
      "text/plain": [
       "               age  number_of_dependants  income_lakhs  annual_premium_amount\n",
       "count  9973.000000           9973.000000   9973.000000            9973.000000\n",
       "mean     41.319362              3.195628     23.382232           19503.816705\n",
       "std      58.044687             21.679565     32.334811            8898.079736\n",
       "min      18.000000              0.000000      1.000000            3582.000000\n",
       "25%      24.000000              0.000000      6.000000           11774.000000\n",
       "50%      37.000000              2.000000     16.000000           19314.000000\n",
       "75%      50.000000              3.000000     31.000000           26500.000000\n",
       "max    1178.000000            456.000000    960.000000           45854.000000"
      ]
     },
     "execution_count": 12,
     "metadata": {},
     "output_type": "execute_result"
    }
   ],
   "source": [
    "df.describe()"
   ]
  },
  {
   "cell_type": "code",
   "execution_count": 13,
   "id": "9fcb52a8",
   "metadata": {},
   "outputs": [
    {
     "data": {
      "image/png": "[encoded data removed]",
      "text/plain": [
       "<Figure size 640x480 with 1 Axes>"
      ]
     },
     "metadata": {},
     "output_type": "display_data"
    },
    {
     "data": {
      "image/png": "[encoded data removed]",
      "text/plain": [
       "<Figure size 640x480 with 1 Axes>"
      ]
     },
     "metadata": {},
     "output_type": "display_data"
    },
    {
     "data": {
      "image/png": "[encoded data removed]",
      "text/plain": [
       "<Figure size 640x480 with 1 Axes>"
      ]
     },
     "metadata": {},
     "output_type": "display_data"
    },
    {
     "data": {
      "image/png": "[encoded data removed]",
      "text/plain": [
       "<Figure size 640x480 with 1 Axes>"
      ]
     },
     "metadata": {},
     "output_type": "display_data"
    }
   ],
   "source": [
    "numerical_column=[\"age\",\"number_of_dependants\",\"income_lakhs\",\"annual_premium_amount\"]\n",
    "\n",
    "for column in numerical_column:\n",
    "    sns.boxplot(x=df[column])\n",
    "    plt.show()"
   ]
  },
  {
   "cell_type": "markdown",
   "id": "f29e0d21",
   "metadata": {},
   "source": [
    "#### Age Outliers"
   ]
  },
  {
   "cell_type": "code",
   "execution_count": 14,
   "id": "7435a085",
   "metadata": {},
   "outputs": [
    {
     "data": {
      "text/plain": [
       "array([ 128, 1178,  567,  456])"
      ]
     },
     "execution_count": 14,
     "metadata": {},
     "output_type": "execute_result"
    }
   ],
   "source": [
    "df[df.age>100]['age'].unique()"
   ]
  },
  {
   "cell_type": "code",
   "execution_count": 15,
   "id": "10957e86",
   "metadata": {},
   "outputs": [],
   "source": [
    "df_copy=df[df.age<=100].copy()"
   ]
  },
  {
   "cell_type": "markdown",
   "id": "118046ce",
   "metadata": {},
   "source": [
    "#### Number of dependans outliers"
   ]
  },
  {
   "cell_type": "code",
   "execution_count": 16,
   "id": "36ecab9b",
   "metadata": {},
   "outputs": [
    {
     "data": {
      "text/plain": [
       "array([  2,   5,   0,   3,   1,   4, 456,  78, 230])"
      ]
     },
     "execution_count": 16,
     "metadata": {},
     "output_type": "execute_result"
    }
   ],
   "source": [
    "df_copy['number_of_dependants'].unique()"
   ]
  },
  {
   "cell_type": "code",
   "execution_count": 17,
   "id": "af174900",
   "metadata": {},
   "outputs": [],
   "source": [
    "df_copy=df_copy[df_copy['number_of_dependants']<=5].copy()"
   ]
  },
  {
   "cell_type": "markdown",
   "id": "ae3c743e",
   "metadata": {},
   "source": [
    "#### Income lakhs outliers"
   ]
  },
  {
   "cell_type": "code",
   "execution_count": 18,
   "id": "54065ad1",
   "metadata": {},
   "outputs": [],
   "source": [
    "def get_iqr_bounds(col):\n",
    "    Q1, Q3=col.quantile([0.25, 0.75])\n",
    "    IQR = Q3-Q1\n",
    "    lower_bound = Q1 - 1.5 * IQR\n",
    "    upper_bound = Q3 + 1.5 * IQR\n",
    "    return lower_bound,upper_bound"
   ]
  },
  {
   "cell_type": "code",
   "execution_count": 19,
   "id": "d64bdf16",
   "metadata": {},
   "outputs": [],
   "source": [
    "lower_bound_il,upper_bound_il=get_iqr_bounds(df_copy['income_lakhs'])"
   ]
  },
  {
   "cell_type": "code",
   "execution_count": 20,
   "id": "6801d8c4",
   "metadata": {},
   "outputs": [
    {
     "data": {
      "text/plain": [
       "(-31.5, 68.5)"
      ]
     },
     "execution_count": 20,
     "metadata": {},
     "output_type": "execute_result"
    }
   ],
   "source": [
    "lower_bound_il,upper_bound_il"
   ]
  },
  {
   "cell_type": "code",
   "execution_count": 21,
   "id": "c3a9a66b",
   "metadata": {},
   "outputs": [],
   "source": [
    "quantile_treshold=df_copy.income_lakhs.quantile(0.999)"
   ]
  },
  {
   "cell_type": "code",
   "execution_count": 22,
   "id": "afde44cf",
   "metadata": {},
   "outputs": [
    {
     "data": {
      "text/plain": [
       "np.float64(155.86000000068452)"
      ]
     },
     "execution_count": 22,
     "metadata": {},
     "output_type": "execute_result"
    }
   ],
   "source": [
    "quantile_treshold"
   ]
  },
  {
   "cell_type": "code",
   "execution_count": 23,
   "id": "c3715908",
   "metadata": {},
   "outputs": [],
   "source": [
    "df_copy=df_copy[df_copy.income_lakhs <= quantile_treshold].copy()"
   ]
  },
  {
   "cell_type": "code",
   "execution_count": 24,
   "id": "f791c6bb",
   "metadata": {},
   "outputs": [
    {
     "data": {
      "text/html": [
       "<div>\n",
       "<style scoped>\n",
       "    .dataframe tbody tr th:only-of-type {\n",
       "        vertical-align: middle;\n",
       "    }\n",
       "\n",
       "    .dataframe tbody tr th {\n",
       "        vertical-align: top;\n",
       "    }\n",
       "\n",
       "    .dataframe thead th {\n",
       "        text-align: right;\n",
       "    }\n",
       "</style>\n",
       "<table border=\"1\" class=\"dataframe\">\n",
       "  <thead>\n",
       "    <tr style=\"text-align: right;\">\n",
       "      <th></th>\n",
       "      <th>age</th>\n",
       "      <th>number_of_dependants</th>\n",
       "      <th>income_lakhs</th>\n",
       "      <th>annual_premium_amount</th>\n",
       "    </tr>\n",
       "  </thead>\n",
       "  <tbody>\n",
       "    <tr>\n",
       "      <th>count</th>\n",
       "      <td>9858.000000</td>\n",
       "      <td>9858.000000</td>\n",
       "      <td>9858.000000</td>\n",
       "      <td>9858.000000</td>\n",
       "    </tr>\n",
       "    <tr>\n",
       "      <th>mean</th>\n",
       "      <td>37.764760</td>\n",
       "      <td>1.919963</td>\n",
       "      <td>22.683709</td>\n",
       "      <td>19513.853419</td>\n",
       "    </tr>\n",
       "    <tr>\n",
       "      <th>std</th>\n",
       "      <td>13.976268</td>\n",
       "      <td>1.503027</td>\n",
       "      <td>22.453283</td>\n",
       "      <td>8900.593367</td>\n",
       "    </tr>\n",
       "    <tr>\n",
       "      <th>min</th>\n",
       "      <td>18.000000</td>\n",
       "      <td>0.000000</td>\n",
       "      <td>1.000000</td>\n",
       "      <td>3582.000000</td>\n",
       "    </tr>\n",
       "    <tr>\n",
       "      <th>25%</th>\n",
       "      <td>24.000000</td>\n",
       "      <td>0.000000</td>\n",
       "      <td>6.000000</td>\n",
       "      <td>11777.000000</td>\n",
       "    </tr>\n",
       "    <tr>\n",
       "      <th>50%</th>\n",
       "      <td>37.000000</td>\n",
       "      <td>2.000000</td>\n",
       "      <td>16.000000</td>\n",
       "      <td>19331.500000</td>\n",
       "    </tr>\n",
       "    <tr>\n",
       "      <th>75%</th>\n",
       "      <td>50.000000</td>\n",
       "      <td>3.000000</td>\n",
       "      <td>31.000000</td>\n",
       "      <td>26505.750000</td>\n",
       "    </tr>\n",
       "    <tr>\n",
       "      <th>max</th>\n",
       "      <td>72.000000</td>\n",
       "      <td>5.000000</td>\n",
       "      <td>100.000000</td>\n",
       "      <td>45854.000000</td>\n",
       "    </tr>\n",
       "  </tbody>\n",
       "</table>\n",
       "</div>"
      ],
      "text/plain": [
       "               age  number_of_dependants  income_lakhs  annual_premium_amount\n",
       "count  9858.000000           9858.000000   9858.000000            9858.000000\n",
       "mean     37.764760              1.919963     22.683709           19513.853419\n",
       "std      13.976268              1.503027     22.453283            8900.593367\n",
       "min      18.000000              0.000000      1.000000            3582.000000\n",
       "25%      24.000000              0.000000      6.000000           11777.000000\n",
       "50%      37.000000              2.000000     16.000000           19331.500000\n",
       "75%      50.000000              3.000000     31.000000           26505.750000\n",
       "max      72.000000              5.000000    100.000000           45854.000000"
      ]
     },
     "execution_count": 24,
     "metadata": {},
     "output_type": "execute_result"
    }
   ],
   "source": [
    "df_copy.describe()"
   ]
  },
  {
   "cell_type": "code",
   "execution_count": null,
   "id": "06ff4b7a",
   "metadata": {},
   "outputs": [],
   "source": []
  }
 ],
 "metadata": {
  "kernelspec": {
   "display_name": ".venv",
   "language": "python",
   "name": "python3"
  },
  "language_info": {
   "codemirror_mode": {
    "name": "ipython",
    "version": 3
   },
   "file_extension": ".py",
   "mimetype": "text/x-python",
   "name": "python",
   "nbconvert_exporter": "python",
   "pygments_lexer": "ipython3",
   "version": "3.13.3"
  }
 },
 "nbformat": 4,
 "nbformat_minor": 5
}
